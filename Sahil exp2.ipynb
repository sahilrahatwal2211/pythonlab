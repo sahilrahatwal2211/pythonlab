{
 "cells": [
  {
   "cell_type": "code",
   "execution_count": 7,
   "id": "56c9bd7a-487c-477c-b0a8-16a2ec20d19d",
   "metadata": {},
   "outputs": [
    {
     "name": "stdout",
     "output_type": "stream",
     "text": [
      "True\n",
      "False\n",
      "True\n"
     ]
    }
   ],
   "source": [
    "def checkString(s: str) -> bool:\n",
    "    seen_b = False\n",
    "    for char in s:\n",
    "        if char == 'b':\n",
    "            seen_b = True\n",
    "        elif char == 'a' and seen_b:\n",
    "            return False\n",
    "    return True\n",
    "s1 = \"aaabbb\"\n",
    "print(checkString(s1))  \n",
    "s2 = \"abab\"\n",
    "print(checkString(s2)) \n",
    "s3 = \"bbb\"\n",
    "print(checkString(s3)) \n"
   ]
  },
  {
   "cell_type": "code",
   "execution_count": null,
   "id": "c2eced64-daaf-4bc9-bb71-9255bd3f4908",
   "metadata": {},
   "outputs": [],
   "source": []
  },
  {
   "cell_type": "code",
   "execution_count": null,
   "id": "1338a618-363d-4cce-8249-43d26a8faeae",
   "metadata": {},
   "outputs": [],
   "source": []
  }
 ],
 "metadata": {
  "kernelspec": {
   "display_name": "Python [conda env:base] *",
   "language": "python",
   "name": "conda-base-py"
  },
  "language_info": {
   "codemirror_mode": {
    "name": "ipython",
    "version": 3
   },
   "file_extension": ".py",
   "mimetype": "text/x-python",
   "name": "python",
   "nbconvert_exporter": "python",
   "pygments_lexer": "ipython3",
   "version": "3.12.7"
  }
 },
 "nbformat": 4,
 "nbformat_minor": 5
}
