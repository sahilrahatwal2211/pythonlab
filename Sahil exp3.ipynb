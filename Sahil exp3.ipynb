{
 "cells": [
  {
   "cell_type": "code",
   "execution_count": 5,
   "id": "d04f748e-5774-404e-92b7-3db041c07fbb",
   "metadata": {},
   "outputs": [
    {
     "name": "stdout",
     "output_type": "stream",
     "text": [
      "Fullstack\n",
      "Frontend Developer\n",
      "Backend Developer\n",
      "Not a Developer\n"
     ]
    }
   ],
   "source": [
    "class Employee:\n",
    "    def __init__ (\n",
    "            self,\n",
    "            designation : str = 'Developer',\n",
    "            frontend : bool = False,\n",
    "            backend : bool = False\n",
    "    ):\n",
    "        self.designation = designation\n",
    "        self.frontend = frontend\n",
    "        self.backend = backend\n",
    "\n",
    "    def __repr__ (self):\n",
    "        return '{}'.format (self.designation)\n",
    "\n",
    "    def verifier(self):\n",
    "        # Check the condition\n",
    "        if self.frontend and self.backend:\n",
    "            return 'Fullstack'\n",
    "        elif self.frontend:\n",
    "            return 'Frontend Developer'\n",
    "        elif self.backend:\n",
    "            return 'Backend Developer'\n",
    "        else:\n",
    "            return 'Not a Developer'\n",
    "\n",
    "if __name__ == '__main__':\n",
    "    firstEmployee = Employee (frontend=True, backend=True)\n",
    "    print(firstEmployee.verifier())  \n",
    "\n",
    "    secondEmployee = Employee(frontend=True)\n",
    "    print(secondEmployee.verifier())  \n",
    "\n",
    "    thirdEmployee = Employee(backend=True)\n",
    "    print(thirdEmployee.verifier())  \n",
    "\n",
    "    fourthEmployee = Employee()\n",
    "    print(fourthEmployee.verifier())  \n",
    "\n",
    "\n",
    "\n",
    "\n"
   ]
  },
  {
   "cell_type": "code",
   "execution_count": null,
   "id": "9ae588cf-6674-4bf5-9c5a-f04a5edf44e6",
   "metadata": {},
   "outputs": [],
   "source": [
    "+"
   ]
  }
 ],
 "metadata": {
  "kernelspec": {
   "display_name": "Python 3 (ipykernel)",
   "language": "python",
   "name": "python3"
  },
  "language_info": {
   "codemirror_mode": {
    "name": "ipython",
    "version": 3
   },
   "file_extension": ".py",
   "mimetype": "text/x-python",
   "name": "python",
   "nbconvert_exporter": "python",
   "pygments_lexer": "ipython3",
   "version": "3.10.1"
  }
 },
 "nbformat": 4,
 "nbformat_minor": 5
}
