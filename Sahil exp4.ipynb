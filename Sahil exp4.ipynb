{
 "cells": [
  {
   "cell_type": "code",
   "execution_count": 3,
   "id": "61f33e57-2089-40af-abaf-44e19975828e",
   "metadata": {},
   "outputs": [
    {
     "name": "stdout",
     "output_type": "stream",
     "text": [
      "Content of the file after writing:\n",
      "This is the initial content of the file.\n",
      "\n",
      "\n",
      "Content of the file after appending:\n",
      "This is the initial content of the file.\n",
      "This is the appended content.\n",
      "\n"
     ]
    }
   ],
   "source": [
    "from contextlib import contextmanager\n",
    "\n",
    "@contextmanager\n",
    "def genericFileFunction(filename, method):\n",
    "    file = open(filename, method)\n",
    "    yield file\n",
    "    file.close()\n",
    "\n",
    "if __name__ == '__main__':\n",
    "    filename = \"test_file.txt\"\n",
    "    with genericFileFunction(filename, 'w') as file:\n",
    "        file.write(\"This is the initial content of the file.\\n\")\n",
    "    with genericFileFunction(filename, 'r') as file:\n",
    "        print(\"Content of the file after writing:\")\n",
    "        print(file.read())\n",
    "    with genericFileFunction(filename, 'a') as file:\n",
    "        file.write(\"This is the appended content.\\n\")\n",
    "    with genericFileFunction(filename, 'r') as file:\n",
    "        print(\"\\nContent of the file after appending:\")\n",
    "        print(file.read())\n"
   ]
  },
  {
   "cell_type": "code",
   "execution_count": null,
   "id": "b71ee119-db08-4701-897d-bb147196e623",
   "metadata": {},
   "outputs": [],
   "source": []
  }
 ],
 "metadata": {
  "kernelspec": {
   "display_name": "Python [conda env:base] *",
   "language": "python",
   "name": "conda-base-py"
  },
  "language_info": {
   "codemirror_mode": {
    "name": "ipython",
    "version": 3
   },
   "file_extension": ".py",
   "mimetype": "text/x-python",
   "name": "python",
   "nbconvert_exporter": "python",
   "pygments_lexer": "ipython3",
   "version": "3.12.7"
  }
 },
 "nbformat": 4,
 "nbformat_minor": 5
}
